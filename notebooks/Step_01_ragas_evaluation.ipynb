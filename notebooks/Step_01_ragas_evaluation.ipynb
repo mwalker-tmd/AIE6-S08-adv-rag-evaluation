{
 "cells": [
  {
   "cell_type": "markdown",
   "metadata": {},
   "source": [
    "# 📊 RAGAS Evaluation\n",
    "### Evaluate both baseline and semantic RAG apps using local RAGAS metrics\n",
    "\n",
    "## 🛠️ Setup & Imports"
   ]
  },
  {
   "cell_type": "code",
   "execution_count": 1,
   "metadata": {},
   "outputs": [
    {
     "data": {
      "text/plain": [
       "True"
      ]
     },
     "execution_count": 1,
     "metadata": {},
     "output_type": "execute_result"
    }
   ],
   "source": [
    "# Reload all imported modules automatically before executing the code.\n",
    "%load_ext autoreload\n",
    "%autoreload 2\n",
    "\n",
    "# 📚 Notebook Setup: sys.path + .env loading\n",
    "import sys\n",
    "import os\n",
    "\n",
    "# Add project root and src/ to sys.path for imports\n",
    "sys.path.append(os.path.abspath(os.path.join(os.getcwd(), \"..\", \"src\")))\n",
    "sys.path.append(os.path.abspath(os.path.join(os.getcwd(), \"..\")))\n",
    "\n",
    "# Load environment variables from .env\n",
    "from dotenv import load_dotenv\n",
    "load_dotenv()"
   ]
  },
  {
   "cell_type": "code",
   "execution_count": 2,
   "metadata": {},
   "outputs": [
    {
     "name": "stderr",
     "output_type": "stream",
     "text": [
      "/Users/mwalker/development/TAMARKDesigns/AI-Maker-Space/cohort-6/projects/session-08/AIE6-S08-adv-rag-evaluation/configs/rag_config.py:7: LangChainDeprecationWarning: The class `OpenAIEmbeddings` was deprecated in LangChain 0.0.9 and will be removed in 1.0. An updated version of the class exists in the :class:`~langchain-openai package and should be used instead. To use it run `pip install -U :class:`~langchain-openai` and import as `from :class:`~langchain_openai import OpenAIEmbeddings``.\n",
      "  embedding_model = OpenAIEmbeddings()\n"
     ]
    }
   ],
   "source": [
    "from src.evaluation import evaluate_baseline_rag, evaluate_semantic_rag\n",
    "from configs.evaluation_config import RAGAS_METRICS\n",
    "import pandas as pd"
   ]
  },
  {
   "cell_type": "markdown",
   "metadata": {},
   "source": [
    "## Load sample documents"
   ]
  },
  {
   "cell_type": "code",
   "execution_count": 3,
   "metadata": {},
   "outputs": [
    {
     "name": "stdout",
     "output_type": "stream",
     "text": [
      "sample_path: /Users/mwalker/development/TAMARKDesigns/AI-Maker-Space/cohort-6/projects/session-08/AIE6-S08-adv-rag-evaluation/data/raw/sample_docs.txt\n"
     ]
    }
   ],
   "source": [
    "from pathlib import Path\n",
    "\n",
    "sample_path = Path().resolve().parent / \"data\" / \"raw\" / \"sample_docs.txt\"\n",
    "print(f\"sample_path: {sample_path}\")\n",
    "with open(sample_path, \"r\") as f:\n",
    "    sample_documents = [f.read()]"
   ]
  },
  {
   "cell_type": "markdown",
   "metadata": {},
   "source": [
    "## 📋 Define Evaluation Questions\n",
    "### You can expand this list or load from file later"
   ]
  },
  {
   "cell_type": "code",
   "execution_count": 4,
   "metadata": {},
   "outputs": [],
   "source": [
    "eval_questions = [\n",
    "    \"What is the role of transformational leadership in building effective engineering teams?\",\n",
    "    \"Why is quality considered a company-wide responsibility rather than just the QA team's responsibility?\",\n",
    "    \"What are the pillars of an effective engineering philosophy according to this document?\",\n",
    "    \"How do proactive defect prevention strategies differ from reactive bug-finding strategies in QA?\",\n",
    "    \"Why is customer-centric thinking important when building internal tools and infrastructure?\"\n",
    "]"
   ]
  },
  {
   "cell_type": "markdown",
   "metadata": {},
   "source": [
    "## 🔍 Evaluate Baseline RAG"
   ]
  },
  {
   "cell_type": "code",
   "execution_count": null,
   "metadata": {},
   "outputs": [
    {
     "name": "stderr",
     "output_type": "stream",
     "text": [
      "/Users/mwalker/development/TAMARKDesigns/AI-Maker-Space/cohort-6/projects/session-08/AIE6-S08-adv-rag-evaluation/src/graph/nodes.py:32: LangChainDeprecationWarning: The class `ChatOpenAI` was deprecated in LangChain 0.0.10 and will be removed in 1.0. An updated version of the class exists in the :class:`~langchain-openai package and should be used instead. To use it run `pip install -U :class:`~langchain-openai` and import as `from :class:`~langchain_openai import ChatOpenAI``.\n",
      "  llm = ChatOpenAI(temperature=0, model=\"gpt-3.5-turbo\")\n"
     ]
    },
    {
     "data": {
      "application/vnd.jupyter.widget-view+json": {
       "model_id": "3efadef43d534039b66e1eb4eaf3edb7",
       "version_major": 2,
       "version_minor": 0
      },
      "text/plain": [
       "Evaluating:   0%|          | 0/25 [00:00<?, ?it/s]"
      ]
     },
     "metadata": {},
     "output_type": "display_data"
    },
    {
     "name": "stderr",
     "output_type": "stream",
     "text": [
      "The LLM did not return a valid classification.\n",
      "The LLM did not return a valid classification.\n",
      "The LLM did not return a valid classification.\n"
     ]
    }
   ],
   "source": [
    "baseline_results = evaluate_baseline_rag.run_evaluation(\n",
    "    questions=eval_questions,\n",
    "    documents=sample_documents,\n",
    "    metrics=RAGAS_METRICS\n",
    ")\n"
   ]
  },
  {
   "cell_type": "markdown",
   "metadata": {},
   "source": [
    "## 🧠 Evaluate Semantic RAG\n"
   ]
  },
  {
   "cell_type": "code",
   "execution_count": null,
   "metadata": {},
   "outputs": [],
   "source": [
    "semantic_results = evaluate_semantic_rag.run_evaluation(\n",
    "    questions=eval_questions,\n",
    "    documents=sample_documents,\n",
    "    metrics=RAGAS_METRICS\n",
    ")\n"
   ]
  },
  {
   "cell_type": "markdown",
   "metadata": {},
   "source": [
    "\n",
    "\n",
    "## 📦 Save Results to CSV"
   ]
  },
  {
   "cell_type": "code",
   "execution_count": 22,
   "metadata": {},
   "outputs": [],
   "source": [
    "baseline_results.to_csv(\"../data/processed/baseline_ragas_results.csv\", index=False)\n",
    "semantic_results.to_csv(\"../data/processed/semantic_ragas_results.csv\", index=False)"
   ]
  },
  {
   "cell_type": "markdown",
   "metadata": {},
   "source": [
    "## 📊 View a Sample of Results"
   ]
  },
  {
   "cell_type": "code",
   "execution_count": null,
   "metadata": {},
   "outputs": [],
   "source": [
    "print(\"Baseline Evaluation:\\n\", baseline_results.head())\n",
    "print(\"\\nSemantic Evaluation:\\n\", semantic_results.head())"
   ]
  },
  {
   "cell_type": "code",
   "execution_count": null,
   "metadata": {},
   "outputs": [],
   "source": [
    "# 🔍 Diagnostic: Show semantic RAG retrievals for manual review\n",
    "for i, row in semantic_results.iterrows():\n",
    "    print(f\"\\n--- Question {i+1} ---\")\n",
    "    print(\"Q:\", row[\"user_input\"])\n",
    "    print(\"Response:\", row[\"response\"])\n",
    "    print(\"Retrieved Contexts:\")\n",
    "    for ctx in row[\"retrieved_contexts\"]:\n",
    "        print(\" -\", ctx[:200], \"...\" if len(ctx) > 200 else \"\")\n",
    "    print(\"Faithfulness:\", row[\"faithfulness\"])\n",
    "    print(\"Context Precision:\", row[\"context_precision\"])\n"
   ]
  }
 ],
 "metadata": {
  "kernelspec": {
   "display_name": "rag-env",
   "language": "python",
   "name": "python3"
  },
  "language_info": {
   "codemirror_mode": {
    "name": "ipython",
    "version": 3
   },
   "file_extension": ".py",
   "mimetype": "text/x-python",
   "name": "python",
   "nbconvert_exporter": "python",
   "pygments_lexer": "ipython3",
   "version": "3.10.16"
  }
 },
 "nbformat": 4,
 "nbformat_minor": 2
}
